{
 "cells": [
  {
   "cell_type": "markdown",
   "id": "135f348a",
   "metadata": {},
   "source": [
    "# Data Science Tools and Ecosystem  \n"
   ]
  },
  {
   "cell_type": "markdown",
   "id": "c7997b30",
   "metadata": {},
   "source": [
    "In this notebook, Data Science Tools and Ecosystem are summarized.  "
   ]
  },
  {
   "cell_type": "markdown",
   "id": "b39c8d8b",
   "metadata": {},
   "source": [
    "**Objectives:**  \n",
    "+ Popular languages for Data Science\n",
    "+ Libraries used by Data Scientists\n",
    "+ Comment on Data Science tools"
   ]
  },
  {
   "cell_type": "markdown",
   "id": "cabf73c0",
   "metadata": {},
   "source": [
    "Some of the popular languages that Data Scientists use are:  \n",
    "1. Python\n",
    "2. SQL\n",
    "3. R\n",
    "4. Scala\n",
    "5. Java\n",
    "6. Julia\n",
    "7. C/C++\n",
    "8. JavaScript.\n"
   ]
  },
  {
   "cell_type": "markdown",
   "id": "ee911d2d",
   "metadata": {},
   "source": [
    "Some of the commonly used libraries used by Data Scientists include:  \n",
    "1. TensorFlow\n",
    "2. SciKit-Learn\n",
    "3. NumPy\n",
    "4. SciPy\n",
    "5. Pandas\n",
    "6. Keras\n",
    "7. Matplotlib\n",
    "8. PyTorch."
   ]
  },
  {
   "cell_type": "markdown",
   "id": "be14d7ab",
   "metadata": {},
   "source": [
    "Data Science Tools:\n",
    "| Tools |\n",
    "| - |\n",
    "| Apache Spark |\n",
    "| BigML |\n",
    "| SAS |\n"
   ]
  },
  {
   "cell_type": "markdown",
   "id": "f7f99762",
   "metadata": {},
   "source": [
    "### Below are a few examples of evaluating arithmetic expressions in Python"
   ]
  },
  {
   "cell_type": "markdown",
   "id": "770643a3",
   "metadata": {},
   "source": [
    "This a simple arithmetic expression to mutiply then add integers "
   ]
  },
  {
   "cell_type": "code",
   "execution_count": 2,
   "id": "9bd2450d",
   "metadata": {},
   "outputs": [
    {
     "data": {
      "text/plain": [
       "17"
      ]
     },
     "execution_count": 2,
     "metadata": {},
     "output_type": "execute_result"
    }
   ],
   "source": [
    "(3*4)+5"
   ]
  },
  {
   "cell_type": "markdown",
   "id": "5180bd13",
   "metadata": {},
   "source": [
    "This will convert 200 minutes to hours by diving by 60"
   ]
  },
  {
   "cell_type": "code",
   "execution_count": 3,
   "id": "147418bd",
   "metadata": {},
   "outputs": [
    {
     "name": "stdout",
     "output_type": "stream",
     "text": [
      "0 days, 3.3333333333333335 hours, 0 mins. \n"
     ]
    }
   ],
   "source": [
    "d = h = m = 0\n",
    "time = 200\n",
    "left_m = time % 1440\n",
    "h = left_m / 60\n",
    "print(str(d) + \" days, \" + str(h) + \" hours, \" + str(m) +  \" mins. \")\n"
   ]
  },
  {
   "cell_type": "markdown",
   "id": "8098a128",
   "metadata": {},
   "source": [
    "## Author  \n",
    "Yuran ZHAO"
   ]
  },
  {
   "cell_type": "code",
   "execution_count": null,
   "id": "6894b4f1",
   "metadata": {},
   "outputs": [],
   "source": []
  }
 ],
 "metadata": {
  "kernelspec": {
   "display_name": "Python 3 (ipykernel)",
   "language": "python",
   "name": "python3"
  },
  "language_info": {
   "codemirror_mode": {
    "name": "ipython",
    "version": 3
   },
   "file_extension": ".py",
   "mimetype": "text/x-python",
   "name": "python",
   "nbconvert_exporter": "python",
   "pygments_lexer": "ipython3",
   "version": "3.7.7"
  }
 },
 "nbformat": 4,
 "nbformat_minor": 5
}
